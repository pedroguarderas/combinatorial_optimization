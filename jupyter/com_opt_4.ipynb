{
 "cells": [
  {
   "cell_type": "markdown",
   "metadata": {},
   "source": [
    "# **Network Flows**"
   ]
  },
  {
   "cell_type": "code",
   "execution_count": 1,
   "metadata": {},
   "outputs": [],
   "source": [
    "import numpy as np"
   ]
  },
  {
   "cell_type": "code",
   "execution_count": null,
   "metadata": {},
   "outputs": [],
   "source": [
    "V = range( 1, 7 )\n",
    "E = [(1,2), (1,3), (2,3), (2,4), (3,5), (2, 5), (3,4), (5,4), (4,6), (5, 6)]\n",
    "c = [ 4, 5, 3, 2, 3, 2, 2, 4, 5, 5 ]"
   ]
  },
  {
   "cell_type": "code",
   "execution_count": null,
   "metadata": {},
   "outputs": [],
   "source": [
    "oued = {i : [(k,j) for (k,j) in E if k == i ] for i in V}\n",
    "ined = {i : [(k,j) for (k,j) in E if j == i ] for i in V}\n",
    "cost = {E[i] : c[i] for i in range( len( E ) ) }\n",
    "\n",
    "print( oued )\n",
    "print( ined )\n",
    "print( cost )"
   ]
  }
 ],
 "metadata": {
  "kernelspec": {
   "display_name": "Python 3",
   "language": "python",
   "name": "python3"
  },
  "language_info": {
   "codemirror_mode": {
    "name": "ipython",
    "version": 3
   },
   "file_extension": ".py",
   "mimetype": "text/x-python",
   "name": "python",
   "nbconvert_exporter": "python",
   "pygments_lexer": "ipython3",
   "version": "3.9.2"
  }
 },
 "nbformat": 4,
 "nbformat_minor": 4
}
