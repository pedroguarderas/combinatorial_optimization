{
 "cells": [
  {
   "cell_type": "markdown",
   "metadata": {},
   "source": [
    "# **Simplex algorithm**"
   ]
  },
  {
   "cell_type": "markdown",
   "metadata": {},
   "source": [
    "Implementation of the simplex algorithm"
   ]
  },
  {
   "cell_type": "code",
   "execution_count": 1,
   "metadata": {},
   "outputs": [],
   "source": [
    "import numpy as np\n",
    "from scipy import linalg as la"
   ]
  },
  {
   "cell_type": "code",
   "execution_count": 2,
   "metadata": {},
   "outputs": [],
   "source": [
    "# Implementation of simplex algorithm\n",
    "# Problem considered in the standard form\n",
    "# minimize c'x subject to Ax <= b\n",
    "def simplex_algorithm( top, c, A, b ) :\n",
    "  [ m, n ] = A.shape\n",
    "\n",
    "  # Reduced costs\n",
    "  if top == 'max' :\n",
    "    cr = -c\n",
    "  elif top == 'min' :\n",
    "    cr = c\n",
    "  \n",
    "  cr = np.insert( cr, 0, 0, axis = 0 )\n",
    "\n",
    "  # Preparing the simplex table\n",
    "  X = np.insert( A, 0, b, axis = 1 )\n",
    "  X = np.insert( X, 0, cr, axis = 0 )\n",
    "\n",
    "  # Slack variables\n",
    "  S = np.eye( m )    \n",
    "  S = np.insert( S, 0, np.zeros( m ), axis = 0 )\n",
    "  X = np.insert( X, np.repeat( n + 1, m ), S, axis = 1 )\n",
    "  [ p, q ] = X.shape\n",
    "  \n",
    "  # Simplex tables\n",
    "  ST = []\n",
    "  ST += [ np.copy( X ) ]\n",
    "  \n",
    "  # Feasible base\n",
    "  Bch = np.arange( q - m, q, 1 )\n",
    "  B = np.arange( q - m, q, 1 )\n",
    "  B.shape = [1,m]\n",
    "  \n",
    "  cj = -np.inf\n",
    "  while cj < 0 :\n",
    "\n",
    "    # Selection pivot column and the smaller reduced cost\n",
    "    cj = X[0,1]\n",
    "    j = 1\n",
    "    for l in range( 2, q ) :\n",
    "      if X[0,l] < cj :\n",
    "        j = l\n",
    "        cj = X[0,l]\n",
    "\n",
    "    # Proceed if the smaller reduced cost is negative\n",
    "    if cj < 0 :\n",
    "      theta = np.inf\n",
    "      i = -1\n",
    "\n",
    "      # Selection of pivot row\n",
    "      for k in range( 1, p ) :\n",
    "        if X[k,j] > 0 :\n",
    "          a = X[k,0] / X[k,j] \n",
    "          if a >= 0 and a < theta:\n",
    "            theta = a\n",
    "            i = k\n",
    "\n",
    "      # Updating evolution of feasible base\n",
    "      Bch[ i - 1 ] = j - 1\n",
    "      B = np.insert( B, B.shape[0], Bch, axis = 0 )\n",
    "      \n",
    "      r = 1.0 / X[i,j]\n",
    "      X[i,:] = r * X[i,:]\n",
    "\n",
    "      # Pivoting\n",
    "      for k in range( 0, p ) :\n",
    "        if k != i :\n",
    "          r = X[k,j]\n",
    "          X[k,:] = X[k,:] - r * X[i,:]\n",
    "      \n",
    "      ST += [ np.copy( X ) ]\n",
    "\n",
    "  x = { i : 0 for i in range( 0, q - 1 ) }\n",
    "  for i in range( 0, m ) :\n",
    "    x[ Bch[i] ] = X[i+1,0] \n",
    "  \n",
    "  if top == 'min' :\n",
    "    z = -X[0,0]\n",
    "  elif top == 'max' :\n",
    "    z = X[0,0]\n",
    "  \n",
    "  return [ x, z, ST, B ]"
   ]
  },
  {
   "cell_type": "markdown",
   "metadata": {},
   "source": [
    "## **Ejemplo 1**"
   ]
  },
  {
   "cell_type": "code",
   "execution_count": 3,
   "metadata": {},
   "outputs": [],
   "source": [
    "n = 3\n",
    "A = np.eye( n, dtype = np.double )\n",
    "b = np.ones( n, dtype = np.double )\n",
    "c = np.ones( n, dtype = np.double )\n",
    "\n",
    "ST = simplex_algorithm( 'max', c, A, b )"
   ]
  },
  {
   "cell_type": "code",
   "execution_count": 4,
   "metadata": {},
   "outputs": [
    {
     "name": "stdout",
     "output_type": "stream",
     "text": [
      "Optimal point:\n",
      " {0: 1.0, 1: 1.0, 2: 1.0, 3: 0, 4: 0, 5: 0}\n"
     ]
    }
   ],
   "source": [
    "print( 'Optimal point:\\n', ST[0] )"
   ]
  },
  {
   "cell_type": "code",
   "execution_count": 5,
   "metadata": {},
   "outputs": [
    {
     "name": "stdout",
     "output_type": "stream",
     "text": [
      "Optimal value:\n",
      " 3.0\n"
     ]
    }
   ],
   "source": [
    "print( 'Optimal value:\\n', ST[1] ) "
   ]
  },
  {
   "cell_type": "code",
   "execution_count": 6,
   "metadata": {},
   "outputs": [
    {
     "name": "stdout",
     "output_type": "stream",
     "text": [
      "Evolution of simplex tables:\n",
      "\n",
      "[[ 0. -1. -1. -1.  0.  0.  0.]\n",
      " [ 1.  1.  0.  0.  1.  0.  0.]\n",
      " [ 1.  0.  1.  0.  0.  1.  0.]\n",
      " [ 1.  0.  0.  1.  0.  0.  1.]] \n",
      "\n",
      "[[ 1.  0. -1. -1.  1.  0.  0.]\n",
      " [ 1.  1.  0.  0.  1.  0.  0.]\n",
      " [ 1.  0.  1.  0.  0.  1.  0.]\n",
      " [ 1.  0.  0.  1.  0.  0.  1.]] \n",
      "\n",
      "[[ 2.  0.  0. -1.  1.  1.  0.]\n",
      " [ 1.  1.  0.  0.  1.  0.  0.]\n",
      " [ 1.  0.  1.  0.  0.  1.  0.]\n",
      " [ 1.  0.  0.  1.  0.  0.  1.]] \n",
      "\n",
      "[[3. 0. 0. 0. 1. 1. 1.]\n",
      " [1. 1. 0. 0. 1. 0. 0.]\n",
      " [1. 0. 1. 0. 0. 1. 0.]\n",
      " [1. 0. 0. 1. 0. 0. 1.]] \n",
      "\n"
     ]
    }
   ],
   "source": [
    "print( 'Evolution of simplex tables:\\n' )\n",
    "for i in range( 0, len( ST[2] ) ) :\n",
    "  print( ST[2][i], '\\n' )"
   ]
  },
  {
   "cell_type": "code",
   "execution_count": 7,
   "metadata": {},
   "outputs": [
    {
     "name": "stdout",
     "output_type": "stream",
     "text": [
      "Evolution of the feasible base:\n",
      " [[4 5 6]\n",
      " [0 5 6]\n",
      " [0 1 6]\n",
      " [0 1 2]]\n"
     ]
    }
   ],
   "source": [
    "print( 'Evolution of the feasible base:\\n', ST[3] )"
   ]
  },
  {
   "cell_type": "markdown",
   "metadata": {},
   "source": [
    "## **Ejemplo 2**"
   ]
  },
  {
   "cell_type": "code",
   "execution_count": 8,
   "metadata": {},
   "outputs": [],
   "source": [
    "A = np.array( [ [1, 2,2], [2,1,2], [2,2,1] ], dtype = np.double )\n",
    "b = np.array( [ 20, 20, 20 ], dtype = np.double )\n",
    "c = np.array( [ -10, -12, -12 ], dtype = np.double )\n",
    "\n",
    "ST = simplex_algorithm( 'min', c, A, b )"
   ]
  },
  {
   "cell_type": "code",
   "execution_count": 9,
   "metadata": {},
   "outputs": [
    {
     "name": "stdout",
     "output_type": "stream",
     "text": [
      "Optimal point:\n",
      " {0: 4.0, 1: 4.0, 2: 4.0, 3: 0, 4: 0, 5: 0}\n"
     ]
    }
   ],
   "source": [
    "print( 'Optimal point:\\n', ST[0] )"
   ]
  },
  {
   "cell_type": "code",
   "execution_count": 10,
   "metadata": {},
   "outputs": [
    {
     "name": "stdout",
     "output_type": "stream",
     "text": [
      "Optimal value:\n",
      " -136.0\n"
     ]
    }
   ],
   "source": [
    "print( 'Optimal value:\\n', ST[1] ) "
   ]
  },
  {
   "cell_type": "code",
   "execution_count": 11,
   "metadata": {},
   "outputs": [
    {
     "name": "stdout",
     "output_type": "stream",
     "text": [
      "Evolution of simplex tables:\n",
      "\n",
      "[[  0. -10. -12. -12.   0.   0.   0.]\n",
      " [ 20.   1.   2.   2.   1.   0.   0.]\n",
      " [ 20.   2.   1.   2.   0.   1.   0.]\n",
      " [ 20.   2.   2.   1.   0.   0.   1.]] \n",
      "\n",
      "[[120.   -4.    0.    0.    6.    0.    0. ]\n",
      " [ 10.    0.5   1.    1.    0.5   0.    0. ]\n",
      " [ 10.    1.5   0.    1.   -0.5   1.    0. ]\n",
      " [  0.    1.    0.   -1.   -1.    0.    1. ]] \n",
      "\n",
      "[[120.    0.    0.   -4.    2.    0.    4. ]\n",
      " [ 10.    0.    1.    1.5   1.    0.   -0.5]\n",
      " [ 10.    0.    0.    2.5   1.    1.   -1.5]\n",
      " [  0.    1.    0.   -1.   -1.    0.    1. ]] \n",
      "\n",
      "[[136.    0.    0.    0.    3.6   1.6   1.6]\n",
      " [  4.    0.    1.    0.    0.4  -0.6   0.4]\n",
      " [  4.    0.    0.    1.    0.4   0.4  -0.6]\n",
      " [  4.    1.    0.    0.   -0.6   0.4   0.4]] \n",
      "\n"
     ]
    }
   ],
   "source": [
    "print( 'Evolution of simplex tables:\\n' )\n",
    "for i in range( 0, len( ST[2] ) ) :\n",
    "  print( ST[2][i], '\\n' )"
   ]
  },
  {
   "cell_type": "code",
   "execution_count": 12,
   "metadata": {},
   "outputs": [
    {
     "name": "stdout",
     "output_type": "stream",
     "text": [
      "Evolution of the feasible base:\n",
      " [[4 5 6]\n",
      " [1 5 6]\n",
      " [1 5 0]\n",
      " [1 2 0]]\n"
     ]
    }
   ],
   "source": [
    "print( 'Evolution of the feasible base:\\n', ST[3] )"
   ]
  }
 ],
 "metadata": {
  "kernelspec": {
   "display_name": "Python 3",
   "language": "python",
   "name": "python3"
  },
  "language_info": {
   "codemirror_mode": {
    "name": "ipython",
    "version": 3
   },
   "file_extension": ".py",
   "mimetype": "text/x-python",
   "name": "python",
   "nbconvert_exporter": "python",
   "pygments_lexer": "ipython3",
   "version": "3.9.2"
  }
 },
 "nbformat": 4,
 "nbformat_minor": 4
}
