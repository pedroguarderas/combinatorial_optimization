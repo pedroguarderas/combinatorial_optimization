{
 "cells": [
  {
   "cell_type": "markdown",
   "metadata": {},
   "source": [
    "# **Linear programming**\n",
    "\n",
    "The current simplex algorithm is designed for the linear programming problem in the standard form, where we consider $x \\in \\mathbb{R}^n$, \n",
    "$A \\in \\mathbb{R}^{m \\times n}$ y $b \\in \\mathbb{R}^m$\n",
    "\\begin{equation}\n",
    "\\left\\{\n",
    "\\begin{array}{rl}\n",
    "\\min & c^T x \\\\\n",
    "s.t. & Ax \\leq b \n",
    "\\end{array}\n",
    "\\right.\n",
    "\\end{equation}\n",
    "\n",
    "basic bases\n",
    "\\begin{equation}\n",
    "B = \\left[\n",
    "\\begin{array}{c|c|c|c|c}\n",
    "A_{\\beta(1)} & \\cdots & A_{j} & \\cdots & A_{\\beta(m)}\n",
    "\\end{array}\n",
    "\\right]\n",
    "\\end{equation}\n",
    "\n",
    "In a block representation the simplex table has the following form\n",
    "\\begin{equation}\n",
    "X\n",
    "= \\left[\n",
    "\\begin{array}{cc}\n",
    "-c_B^T B^{-1}b & c^T - c^T_B B^{-1} A \\\\\n",
    "B^{-1} b & B^{-1} A\n",
    "\\end{array}\n",
    "\\right]\n",
    "\\end{equation}\n",
    "$\\DeclareMathOperator*{\\argmin}{argmin}$"
   ]
  },
  {
   "cell_type": "code",
   "execution_count": 1,
   "metadata": {},
   "outputs": [],
   "source": [
    "import numpy as np\n",
    "from scipy import linalg as la"
   ]
  },
  {
   "cell_type": "markdown",
   "metadata": {},
   "source": [
    "---\n",
    "## **Simplex algorithm**\n",
    "1. When all the constraints are inequality constraints we can define a initial basic base associated to the additional slack variables \n",
    "$\\beta = \\{n+1, \\ldots, n+m\\}$\n",
    "\\begin{equation}\n",
    "X\n",
    "= \\left[\n",
    "\\begin{array}{ccc}\n",
    "0 & c^T & 0 \\\\\n",
    "b & A & I\n",
    "\\end{array}\n",
    "\\right]\n",
    "\\end{equation}\n",
    "we numerate the rows of $X$ starting at $0$, the same we do for the columns of $X$.\n",
    "\n",
    "2. We compute reduced costs given by $\\bar{c}_j = c_j - p^T A_j$, where $p = c_\\beta^T B^{-1}$ and we obtain the index of the smallest reduced cost.\n",
    "\\begin{equation}\n",
    "j = \\underset{l \\in\\{1,\\ldots,n+m\\}}{\\argmin}{\\bar{c}_l}\n",
    "= \\underset{l \\in\\{1,\\ldots,n+m\\}}{\\argmin}{X_{0l}}\n",
    "\\end{equation}\n",
    "\n",
    "3. If $\\bar{c}_j < 0$ we can improve the value of the objective function we proceed with the step 4, otherwise we stop the algorithm and return the \n",
    "optimal point.\n",
    "\\begin{equation}\n",
    "x^* = x_\\beta \n",
    "= \\left[ x_{\\beta(1)}, \\ldots, x_{\\beta(m)} \\right]^T\n",
    "= \\left[ X_{10}, \\ldots, X_{m0} \\right]^T\n",
    "\\end{equation}\n",
    "and the value of objective function at $x^*$\n",
    "\\begin{equation}\n",
    "z^* = c_{\\beta}^T x_{\\beta} = X_{00}\n",
    "\\end{equation}\n",
    "\n",
    "4. We find the index of the pivot row which is the optimal value for\n",
    "\\begin{equation}\n",
    "i = \\underset{k \\in\\{1,\\ldots,m\\}, u_{k} > 0}{\\argmin}{\\frac{x_{\\beta(k)}}{u_{k}}}\n",
    "= \\underset{k \\in\\{1,\\ldots,m\\}, X_{kj} > 0}{\\argmin}{\\frac{X_{0j}}{X_{kj}}}\n",
    "\\end{equation}\n",
    "in the fir equality $u = B^{-1} A_j$\n",
    "\n",
    "5. Update the basic bases $\\beta = \\beta \\setminus\\{i\\} \\cup \\{j\\}$.\n",
    "\n",
    "6. We update the simplex table by employing the following pivot rules\n",
    "\\begin{equation}\n",
    "\\begin{array}{ll}\n",
    "X_{il} = \\frac{1}{X_{ij}} X_{il} & \\text{if}\\ k = i \\\\\n",
    "X_{kl} = X_{kl} - X_{kj} X_{il} & \\text{if}\\ k \\neq i, k \\in \\{0,\\ldots,m\\}\n",
    "\\end{array}\n",
    "\\end{equation}\n",
    "\n",
    "7. We return to the step 2"
   ]
  },
  {
   "cell_type": "code",
   "execution_count": 2,
   "metadata": {
    "tags": []
   },
   "outputs": [],
   "source": [
    "# Implementation of simplex algorithm\n",
    "# Problem considered in the standard form\n",
    "# minimize c'x subject to Ax <= b\n",
    "def simplex_algorithm( top, c, A, b ) :\n",
    "  [ m, n ] = A.shape\n",
    "\n",
    "  # Reduced costs\n",
    "  if top == 'max' :\n",
    "    cr = -c\n",
    "  elif top == 'min' :\n",
    "    cr = c\n",
    "  \n",
    "  cr = np.insert( cr, 0, 0, axis = 0 )\n",
    "\n",
    "  # Preparing the simplex table\n",
    "  X = np.insert( A, 0, b, axis = 1 )\n",
    "  X = np.insert( X, 0, cr, axis = 0 )\n",
    "\n",
    "  # Slack variables\n",
    "  S = np.eye( m )    \n",
    "  S = np.insert( S, 0, np.zeros( m ), axis = 0 )\n",
    "  X = np.insert( X, np.repeat( n + 1, m ), S, axis = 1 )\n",
    "  [ p, q ] = X.shape\n",
    "  \n",
    "  # List to save the simplex tables\n",
    "  ST = []\n",
    "  ST += [ np.copy( X ) ]\n",
    "  \n",
    "  # Feasible base\n",
    "  Bch = np.arange( q - m, q, 1 )\n",
    "  B = np.arange( q - m, q, 1 )\n",
    "  B.shape = [1,m]\n",
    "  \n",
    "  cj = -np.inf\n",
    "  while cj < 0 :\n",
    "\n",
    "    # Selection pivot column with the smaller reduced cost, following Bland's rule\n",
    "    cj = X[0,1]\n",
    "    j = 1\n",
    "    for l in range( 2, q ) :\n",
    "      if X[0,l] < cj :\n",
    "        j = l\n",
    "        cj = X[0,l]\n",
    "\n",
    "    # Proceed if the smaller reduced cost is negative\n",
    "    if cj < 0 :\n",
    "      theta = np.inf\n",
    "      i = -1\n",
    "\n",
    "      # Selecting the pivot row with the smallest ratio x_{B(i)} / u_i\n",
    "      # If exists more than one we select the smallest index\n",
    "      for k in range( 1, p ) :\n",
    "        if X[k,j] > 0 :\n",
    "          a = X[k,0] / X[k,j] \n",
    "          if a >= 0 and a < theta:\n",
    "            theta = a\n",
    "            i = k\n",
    "\n",
    "      # Updating evolution of feasible base\n",
    "      Bch[ i - 1 ] = j - 1\n",
    "      B = np.insert( B, B.shape[0], Bch, axis = 0 )\n",
    "      \n",
    "      r = 1.0 / X[i,j]\n",
    "      X[i,:] = r * X[i,:]\n",
    "\n",
    "      # Pivoting\n",
    "      for k in range( 0, p ) :\n",
    "        if k != i :\n",
    "          r = X[k,j]\n",
    "          X[k,:] = X[k,:] - r * X[i,:]\n",
    "      \n",
    "      ST += [ np.copy( X ) ]\n",
    "\n",
    "  # Collecting optimal solution in a dictionary for each coordinate\n",
    "  x = { i : 0 for i in range( 0, q - 1 ) }\n",
    "  for i in range( 0, m ) :\n",
    "    x[ Bch[i] ] = X[ i + 1, 0 ]\n",
    "    \n",
    "  # Collecting optimal dual solution in a dictionary for each coordinate\n",
    "  p = { i : 0 for i in range( 0, q - 1 ) }\n",
    "  for i in range( 1, q ) :\n",
    "    p[ i - 1 ] = X[ 0, i ]\n",
    "  \n",
    "  # Left upper corner of simplex table has the value of the objective function\n",
    "  if top == 'min' :\n",
    "    z = -X[0,0]\n",
    "  elif top == 'max' :\n",
    "    z = X[0,0]\n",
    "  \n",
    "  return [ x, p, z, ST, B ]"
   ]
  },
  {
   "cell_type": "markdown",
   "metadata": {},
   "source": [
    "## **Ejemplo 1**"
   ]
  },
  {
   "cell_type": "code",
   "execution_count": 3,
   "metadata": {},
   "outputs": [],
   "source": [
    "n = 4\n",
    "A = np.eye( n, dtype = np.double )\n",
    "b = np.ones( n, dtype = np.double )\n",
    "c = np.ones( n, dtype = np.double )\n",
    "\n",
    "ST = simplex_algorithm( 'max', c, A, b )"
   ]
  },
  {
   "cell_type": "code",
   "execution_count": 4,
   "metadata": {},
   "outputs": [
    {
     "name": "stdout",
     "output_type": "stream",
     "text": [
      "Optimal point:\n",
      " {0: 1.0, 1: 1.0, 2: 1.0, 3: 1.0, 4: 0, 5: 0, 6: 0, 7: 0}\n"
     ]
    }
   ],
   "source": [
    "print( 'Optimal point:\\n', ST[0] )"
   ]
  },
  {
   "cell_type": "code",
   "execution_count": 5,
   "metadata": {},
   "outputs": [
    {
     "name": "stdout",
     "output_type": "stream",
     "text": [
      "Optimal dual:\n",
      " {0: 0.0, 1: 0.0, 2: 0.0, 3: 0.0, 4: 1.0, 5: 1.0, 6: 1.0, 7: 1.0}\n"
     ]
    }
   ],
   "source": [
    "print( 'Optimal dual:\\n', ST[1] )"
   ]
  },
  {
   "cell_type": "code",
   "execution_count": 6,
   "metadata": {},
   "outputs": [
    {
     "name": "stdout",
     "output_type": "stream",
     "text": [
      "Optimal value:\n",
      " 4.0\n"
     ]
    }
   ],
   "source": [
    "print( 'Optimal value:\\n', ST[2] ) "
   ]
  },
  {
   "cell_type": "code",
   "execution_count": 7,
   "metadata": {},
   "outputs": [
    {
     "name": "stdout",
     "output_type": "stream",
     "text": [
      "Evolution of simplex tables:\n",
      "\n",
      "[[ 0. -1. -1. -1. -1.  0.  0.  0.  0.]\n",
      " [ 1.  1.  0.  0.  0.  1.  0.  0.  0.]\n",
      " [ 1.  0.  1.  0.  0.  0.  1.  0.  0.]\n",
      " [ 1.  0.  0.  1.  0.  0.  0.  1.  0.]\n",
      " [ 1.  0.  0.  0.  1.  0.  0.  0.  1.]] \n",
      "\n",
      "[[ 1.  0. -1. -1. -1.  1.  0.  0.  0.]\n",
      " [ 1.  1.  0.  0.  0.  1.  0.  0.  0.]\n",
      " [ 1.  0.  1.  0.  0.  0.  1.  0.  0.]\n",
      " [ 1.  0.  0.  1.  0.  0.  0.  1.  0.]\n",
      " [ 1.  0.  0.  0.  1.  0.  0.  0.  1.]] \n",
      "\n",
      "[[ 2.  0.  0. -1. -1.  1.  1.  0.  0.]\n",
      " [ 1.  1.  0.  0.  0.  1.  0.  0.  0.]\n",
      " [ 1.  0.  1.  0.  0.  0.  1.  0.  0.]\n",
      " [ 1.  0.  0.  1.  0.  0.  0.  1.  0.]\n",
      " [ 1.  0.  0.  0.  1.  0.  0.  0.  1.]] \n",
      "\n",
      "[[ 3.  0.  0.  0. -1.  1.  1.  1.  0.]\n",
      " [ 1.  1.  0.  0.  0.  1.  0.  0.  0.]\n",
      " [ 1.  0.  1.  0.  0.  0.  1.  0.  0.]\n",
      " [ 1.  0.  0.  1.  0.  0.  0.  1.  0.]\n",
      " [ 1.  0.  0.  0.  1.  0.  0.  0.  1.]] \n",
      "\n",
      "[[4. 0. 0. 0. 0. 1. 1. 1. 1.]\n",
      " [1. 1. 0. 0. 0. 1. 0. 0. 0.]\n",
      " [1. 0. 1. 0. 0. 0. 1. 0. 0.]\n",
      " [1. 0. 0. 1. 0. 0. 0. 1. 0.]\n",
      " [1. 0. 0. 0. 1. 0. 0. 0. 1.]] \n",
      "\n"
     ]
    }
   ],
   "source": [
    "print( 'Evolution of simplex tables:\\n' )\n",
    "for i in range( 0, len( ST[3] ) ) :\n",
    "  print( ST[3][i], '\\n' )"
   ]
  },
  {
   "cell_type": "code",
   "execution_count": 8,
   "metadata": {},
   "outputs": [
    {
     "name": "stdout",
     "output_type": "stream",
     "text": [
      "Evolution of the feasible base:\n",
      " [[5 6 7 8]\n",
      " [0 6 7 8]\n",
      " [0 1 7 8]\n",
      " [0 1 2 8]\n",
      " [0 1 2 3]]\n"
     ]
    }
   ],
   "source": [
    "print( 'Evolution of the feasible base:\\n', ST[4] )"
   ]
  },
  {
   "cell_type": "markdown",
   "metadata": {},
   "source": [
    "## **Ejemplo 2**"
   ]
  },
  {
   "cell_type": "code",
   "execution_count": 9,
   "metadata": {},
   "outputs": [],
   "source": [
    "A = np.array( [ [ 1, 2, 2 ], [ 2, 1, 2 ], [ 2, 2, 1 ] ], dtype = np.double )\n",
    "b = np.array( [ 20, 20, 20 ], dtype = np.double )\n",
    "c = np.array( [ -10, -12, -12 ], dtype = np.double )\n",
    "\n",
    "ST = simplex_algorithm( 'min', c, A, b )"
   ]
  },
  {
   "cell_type": "code",
   "execution_count": 10,
   "metadata": {},
   "outputs": [
    {
     "name": "stdout",
     "output_type": "stream",
     "text": [
      "Optimal point:\n",
      " {0: 4.0, 1: 4.0, 2: 4.0, 3: 0, 4: 0, 5: 0}\n"
     ]
    }
   ],
   "source": [
    "print( 'Optimal point:\\n', ST[0] )"
   ]
  },
  {
   "cell_type": "code",
   "execution_count": 11,
   "metadata": {},
   "outputs": [
    {
     "name": "stdout",
     "output_type": "stream",
     "text": [
      "Optimal dual:\n",
      " {0: 0.0, 1: 0.0, 2: 0.0, 3: 3.6, 4: 1.6, 5: 1.5999999999999996}\n"
     ]
    }
   ],
   "source": [
    "print( 'Optimal dual:\\n', ST[1] )"
   ]
  },
  {
   "cell_type": "code",
   "execution_count": 12,
   "metadata": {},
   "outputs": [
    {
     "name": "stdout",
     "output_type": "stream",
     "text": [
      "Optimal value:\n",
      " -136.0\n"
     ]
    }
   ],
   "source": [
    "print( 'Optimal value:\\n', ST[2] )"
   ]
  },
  {
   "cell_type": "code",
   "execution_count": 13,
   "metadata": {},
   "outputs": [
    {
     "name": "stdout",
     "output_type": "stream",
     "text": [
      "Evolution of simplex tables:\n",
      "\n",
      "[[  0. -10. -12. -12.   0.   0.   0.]\n",
      " [ 20.   1.   2.   2.   1.   0.   0.]\n",
      " [ 20.   2.   1.   2.   0.   1.   0.]\n",
      " [ 20.   2.   2.   1.   0.   0.   1.]] \n",
      "\n",
      "[[120.   -4.    0.    0.    6.    0.    0. ]\n",
      " [ 10.    0.5   1.    1.    0.5   0.    0. ]\n",
      " [ 10.    1.5   0.    1.   -0.5   1.    0. ]\n",
      " [  0.    1.    0.   -1.   -1.    0.    1. ]] \n",
      "\n",
      "[[120.    0.    0.   -4.    2.    0.    4. ]\n",
      " [ 10.    0.    1.    1.5   1.    0.   -0.5]\n",
      " [ 10.    0.    0.    2.5   1.    1.   -1.5]\n",
      " [  0.    1.    0.   -1.   -1.    0.    1. ]] \n",
      "\n",
      "[[136.    0.    0.    0.    3.6   1.6   1.6]\n",
      " [  4.    0.    1.    0.    0.4  -0.6   0.4]\n",
      " [  4.    0.    0.    1.    0.4   0.4  -0.6]\n",
      " [  4.    1.    0.    0.   -0.6   0.4   0.4]] \n",
      "\n"
     ]
    }
   ],
   "source": [
    "print( 'Evolution of simplex tables:\\n' )\n",
    "for i in range( 0, len( ST[3] ) ) :\n",
    "  print( ST[3][i], '\\n' )"
   ]
  },
  {
   "cell_type": "code",
   "execution_count": 14,
   "metadata": {},
   "outputs": [
    {
     "name": "stdout",
     "output_type": "stream",
     "text": [
      "Evolution of the feasible base:\n",
      " [[4 5 6]\n",
      " [1 5 6]\n",
      " [1 5 0]\n",
      " [1 2 0]]\n"
     ]
    }
   ],
   "source": [
    "print( 'Evolution of the feasible base:\\n', ST[4] )"
   ]
  }
 ],
 "metadata": {
  "kernelspec": {
   "display_name": "Python 3",
   "language": "python",
   "name": "python3"
  },
  "language_info": {
   "codemirror_mode": {
    "name": "ipython",
    "version": 3
   },
   "file_extension": ".py",
   "mimetype": "text/x-python",
   "name": "python",
   "nbconvert_exporter": "python",
   "pygments_lexer": "ipython3",
   "version": "3.9.2"
  }
 },
 "nbformat": 4,
 "nbformat_minor": 4
}
