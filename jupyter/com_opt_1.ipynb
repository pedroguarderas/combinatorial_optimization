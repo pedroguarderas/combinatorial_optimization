{
 "cells": [
  {
   "cell_type": "markdown",
   "metadata": {},
   "source": [
    "# **Polyhedra**\n",
    "$\\DeclareMathOperator*{\\conv}{conv}$\n",
    "$\\DeclareMathOperator*{\\cone}{cone}$"
   ]
  },
  {
   "cell_type": "markdown",
   "metadata": {},
   "source": [
    "$P = \\left\\{ x \\middle| Ax \\leq b \\right\\}$\n",
    "\n",
    "$P = \\conv( V ) + \\cone( W )$"
   ]
  },
  {
   "cell_type": "code",
   "execution_count": 2,
   "metadata": {},
   "outputs": [],
   "source": [
    "import numpy as np"
   ]
  },
  {
   "cell_type": "markdown",
   "metadata": {},
   "source": [
    "## **Incremental algorithm**\n",
    "In what it follows we implement the double description method"
   ]
  },
  {
   "cell_type": "code",
   "execution_count": 3,
   "metadata": {},
   "outputs": [],
   "source": [
    "def double_description_method( V, k ) :\n",
    "  [ m, n ] = V.shape\n",
    "  I = []\n",
    "  Jp = []\n",
    "  Jn = []\n",
    "  for l in range( 0, n ) :\n",
    "    if V[k,l] == 0 :\n",
    "      I.append( l )\n",
    "    elif V[k,l] > 0 :\n",
    "      Jp.append( l )\n",
    "    elif V[k,l] < 0 :\n",
    "      Jn.append( l )\n",
    "      \n",
    "  p = len( I )\n",
    "  print( I )\n",
    "  print( Jp )\n",
    "  print( Jn )\n",
    "  if p > 0 :\n",
    "    W = V[:,I]\n",
    "\n",
    "  if len( Jp ) > 0 and len( Jn ) == 0  :\n",
    "    W = np.insert( W, np.repeat( p, len( Jp ) ), V[:,Jp], axis = 1 )\n",
    "    W[k,:] = 0\n",
    "    \n",
    "  elif len( Jp ) == 0 and len( Jn ) > 0  :\n",
    "    W = np.insert( W, np.repeat( p, len( Jn ) ), V[:,Jn], axis = 1 )\n",
    "    W[k,:] = 0\n",
    "    \n",
    "  elif len( Jp ) > 0 and len( Jn ) > 0 :\n",
    "    \n",
    "    for i in Jp :\n",
    "      for j in Jn :\n",
    "        vki = V[k,i]\n",
    "        vkj = V[k,j]\n",
    "#         d = vki - vkj\n",
    "        d = 1\n",
    "        if d != 0 :\n",
    "          w = ( vki / d ) * V[:,j] - ( vkj / d ) * V[:,i]\n",
    "          if p > 0 :\n",
    "            W = np.insert( W, p, w, axis = 1 )\n",
    "            p = W.shape[1]\n",
    "          else :\n",
    "            W = w.T\n",
    "            W.shape = [ m, 1 ]\n",
    "            p = 1\n",
    "\n",
    "  return W"
   ]
  },
  {
   "cell_type": "code",
   "execution_count": 7,
   "metadata": {},
   "outputs": [
    {
     "name": "stdout",
     "output_type": "stream",
     "text": [
      "[[ 1.  1.]\n",
      " [-1. -0.]\n",
      " [-0. -1.]]\n",
      "[1. 0. 0.]\n"
     ]
    }
   ],
   "source": [
    "d = 2\n",
    "A = np.ones( [1,d] )\n",
    "A = np.insert( A, 1, -np.eye( d ), axis = 0 )\n",
    "print( A )\n",
    "b = np.zeros( A.shape[0] )\n",
    "b[0] = 1\n",
    "print( b )"
   ]
  },
  {
   "cell_type": "code",
   "execution_count": 8,
   "metadata": {},
   "outputs": [
    {
     "name": "stdout",
     "output_type": "stream",
     "text": [
      "[[ 1.  0. -1. -0.  0.  0.  0.]\n",
      " [ 0.  1. -0. -1.  0.  0.  0.]\n",
      " [ 1.  1. -1. -1.  1.  0.  0.]\n",
      " [-1. -0.  1.  0.  0.  1.  0.]\n",
      " [-0. -1.  0.  1.  0.  0.  1.]]\n"
     ]
    }
   ],
   "source": [
    "[ m, d ] = A.shape\n",
    "W = np.insert( np.eye( d ), d, A, axis = 0 )\n",
    "V = np.insert( W, np.repeat( d, d ), -W, axis = 1 )\n",
    "W = np.insert( np.zeros( [ d, m ] ), d, np.eye( m ), axis = 0 )\n",
    "V = np.insert( V, np.repeat( 2*d, m ), W, axis = 1 )\n",
    "del W\n",
    "print( V )\n",
    "\n",
    "\n",
    "Vk = np.copy( V )\n",
    "[ M, N ] = Vk.shape\n",
    "for j in range( 0, N ) :\n",
    "  Vk[range( d, M ),j] = Vk[range( d, M ),j] - b"
   ]
  },
  {
   "cell_type": "code",
   "execution_count": 9,
   "metadata": {},
   "outputs": [
    {
     "name": "stdout",
     "output_type": "stream",
     "text": [
      "[[ 1.  0. -1. -0.  0.  0.  0.]\n",
      " [ 0.  1. -0. -1.  0.  0.  0.]\n",
      " [ 0.  0. -2. -2.  0. -1. -1.]\n",
      " [-1. -0.  1.  0.  0.  1.  0.]\n",
      " [-0. -1.  0.  1.  0.  0.  1.]]\n",
      "[0, 1, 4]\n",
      "[]\n",
      "[2, 3, 5, 6]\n",
      "2 :\n",
      " [[ 1.  0.  0. -1. -0.  0.  0.]\n",
      " [ 0.  1.  0. -0. -1.  0.  0.]\n",
      " [ 0.  0.  0.  0.  0.  0.  0.]\n",
      " [-1. -0.  0.  1.  0.  1.  0.]\n",
      " [-0. -1.  0.  0.  1.  0.  1.]]\n",
      "[1, 2, 4, 6]\n",
      "[3, 5]\n",
      "[0]\n",
      "3 :\n",
      " [[ 0.  0. -0.  0.  0.  1.]\n",
      " [ 1.  0. -1.  0.  0.  0.]\n",
      " [ 0.  0.  0.  0.  0.  0.]\n",
      " [-0.  0.  0.  0.  0.  0.]\n",
      " [-1.  0.  1.  1.  0.  0.]]\n",
      "[1, 4, 5]\n",
      "[2, 3]\n",
      "[0]\n",
      "4 :\n",
      " [[0. 0. 1. 0. 0.]\n",
      " [0. 0. 0. 0. 1.]\n",
      " [0. 0. 0. 0. 0.]\n",
      " [0. 0. 0. 0. 0.]\n",
      " [0. 0. 0. 0. 0.]]\n"
     ]
    }
   ],
   "source": [
    "print( Vk )\n",
    "for k in range( 0, m ) :\n",
    "  Vk = double_description_method( Vk, d + k )\n",
    "  print( d + k, ':\\n', Vk )"
   ]
  },
  {
   "cell_type": "code",
   "execution_count": 154,
   "metadata": {},
   "outputs": [],
   "source": [
    "def double_description_method( A ) :\n",
    "  [ m, d ] = A.shape\n",
    "  \n",
    "  R = np.zeros( [ d, 1 ] )\n",
    "  for j in range( 0, d ) :\n",
    "    if A[0,j] > 0 :\n",
    "      R[j,0] = 1\n",
    "    elif A[0,j] < 0 :\n",
    "      R[j,0] = -1\n",
    "    \n",
    "  K = list( range( 1, m ) )\n",
    "  while K != [] :\n",
    "    I0 = []\n",
    "    Ip = []\n",
    "    In = []\n",
    "    \n",
    "    i = K.pop( 0 )\n",
    "    n = R.shape[1]\n",
    "    u = np.zeros( n )\n",
    "    for j in range( 0, n ) :\n",
    "      u[j] = A[i,:].dot( R[:,j] )\n",
    "      if u[j] > 0 :\n",
    "        Ip.append( j )\n",
    "      elif u[j] < 0 : \n",
    "        In.append( j )\n",
    "      else :\n",
    "        I0.append( j )\n",
    "    \n",
    "    if len( Ip ) == 0 and len( In ) > 0 :\n",
    "      R = np.insert( R, n, -R[:,In + I0], axis = 1 )\n",
    "      n = R.shape[1]\n",
    "    elif len( Ip ) > 0 and len( In ) == 0 :\n",
    "      R = R[:,Ip + I0]\n",
    "      n = R.shape[1]\n",
    "    elif len( Ip ) > 0 and len( In ) > 0 :\n",
    "      S = R[:,Ip + I0]\n",
    "      n = S.shape[1]\n",
    "      \n",
    "      for k in Ip :\n",
    "        for l in In :\n",
    "          S = np.insert( S, n, u[k] * R[:,l] - u[l] * R[:,k], axis = 1 )\n",
    "          n = S.shape[1]\n",
    "          \n",
    "      R = np.copy( S )\n",
    "  \n",
    "  return R"
   ]
  },
  {
   "cell_type": "code",
   "execution_count": 155,
   "metadata": {},
   "outputs": [
    {
     "name": "stdout",
     "output_type": "stream",
     "text": [
      "[[-1.  1. -1. -1.  0. -1. -1.  1.  1.  0.]\n",
      " [ 0. -1.  0. -1.  1. -1. -1. -1.  1.  0.]\n",
      " [ 0. -1. -1. -1.  1.  1. -1. -1.  1. -1.]\n",
      " [ 0. -1.  0.  0. -1. -1.  0.  1. -1.  0.]\n",
      " [-1.  0. -1. -1. -1. -1. -1. -1. -1. -1.]\n",
      " [ 0. -1. -1.  1. -1. -1. -1.  0.  1.  0.]\n",
      " [ 0.  1.  0.  0.  0.  0.  0. -1. -1.  0.]\n",
      " [-1.  1. -1. -1.  0.  0.  0.  1. -1.  1.]\n",
      " [ 1. -1.  0. -1.  0.  0. -1. -1.  1.  0.]\n",
      " [ 0.  0. -1. -1. -1. -1. -1.  1.  0. -1.]]\n"
     ]
    }
   ],
   "source": [
    "m = 10\n",
    "d = 10\n",
    "# A = np.ones( [1,d] )\n",
    "# A = -np.insert( A, 1, np.eye( d ), axis = 0 )\n",
    "A = np.zeros( [m,d] )\n",
    "for i in range( 0, m ) :\n",
    "  for j in range( 0, d ) :\n",
    "    b = np.random.binomial( 2, 0.4, 1 )\n",
    "    if b == 0 :\n",
    "      A[i,j] = 0\n",
    "    elif b == 1 :\n",
    "      A[i,j] = -1\n",
    "    else :\n",
    "      A[i,j] = 1\n",
    "print( A )"
   ]
  }
 ],
 "metadata": {
  "kernelspec": {
   "display_name": "Python 3",
   "language": "python",
   "name": "python3"
  },
  "language_info": {
   "codemirror_mode": {
    "name": "ipython",
    "version": 3
   },
   "file_extension": ".py",
   "mimetype": "text/x-python",
   "name": "python",
   "nbconvert_exporter": "python",
   "pygments_lexer": "ipython3",
   "version": "3.9.2"
  }
 },
 "nbformat": 4,
 "nbformat_minor": 4
}
