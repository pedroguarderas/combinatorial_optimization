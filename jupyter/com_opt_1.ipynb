{
 "cells": [
  {
   "cell_type": "markdown",
   "metadata": {},
   "source": [
    "# Defining a graph structure"
   ]
  },
  {
   "cell_type": "markdown",
   "metadata": {},
   "source": [
    "Graph class definition"
   ]
  },
  {
   "cell_type": "code",
   "execution_count": 44,
   "metadata": {},
   "outputs": [],
   "source": [
    "m = {i : False for i in V}\n",
    "Q = [1]\n",
    "while Q != [] :\n",
    "    i = Q.pop( 0 )\n",
    "    m[i] = True\n",
    "    L = [ j for (k,j) in inc[i] if k == i ] + [ j for (j,k) in incidentes(i) if k == i ]\n",
    "    Q += [ i for i in L if ( not m[i] ) and ( i not in Q )]"
   ]
  },
  {
   "cell_type": "code",
   "execution_count": 72,
   "metadata": {},
   "outputs": [
    {
     "name": "stdout",
     "output_type": "stream",
     "text": [
      "1 [2, 3, 4]\n",
      "2 [6, 1]\n",
      "6 [2]\n",
      "3 [5, 1]\n",
      "5 [3, 4]\n",
      "4 [5, 1]\n"
     ]
    }
   ],
   "source": [
    "def deep_first_search( i, inc, m ) :\n",
    "    m[i] = True\n",
    "    N = [ j for (k,j) in inc[i] if k == i ] + [ j for (j,k) in inc[i] if k == i ]\n",
    "    print( i, N )\n",
    "    for j in N :\n",
    "        if not m[j] :\n",
    "            dfs( j, inc, m )\n",
    "\n",
    "m = { i : False for i in V }\n",
    "dfs( 1, inc, m )"
   ]
  },
  {
   "cell_type": "markdown",
   "metadata": {},
   "source": [
    "# Kruskal's algorithm"
   ]
  },
  {
   "cell_type": "code",
   "execution_count": 98,
   "metadata": {},
   "outputs": [
    {
     "name": "stdout",
     "output_type": "stream",
     "text": [
      "cc = {(1, 2): -5, (1, 3): 4, (2, 3): 3, (2, 4): -7, (3, 4): 5, (4, 1): 1, (5, 6): 0, (3, 5): 2, (4, 6): 5}\n"
     ]
    }
   ],
   "source": [
    "cc = {E[i] : c[i] for i in range( len( E ) ) }\n",
    "print( 'cc = {}'.format( cc ) )"
   ]
  },
  {
   "cell_type": "code",
   "execution_count": 92,
   "metadata": {},
   "outputs": [],
   "source": [
    "E.sort( key = lambda x : cc[ x ] )"
   ]
  },
  {
   "cell_type": "code",
   "execution_count": 100,
   "metadata": {},
   "outputs": [
    {
     "name": "stdout",
     "output_type": "stream",
     "text": [
      "[(1, 2), (1, 3), (2, 4), (5, 6), (3, 5)]\n"
     ]
    }
   ],
   "source": [
    "T = []\n",
    "S = { i : i for i in V }\n",
    "for ( i, j ) in E :\n",
    "    if ( S[i] == S[j] ) :\n",
    "        continue\n",
    "    T.append( ( i, j ) )\n",
    "    s_i = S[i]\n",
    "    for k in V :\n",
    "        if S[k] == s_i :\n",
    "            S[k] = S[j]\n",
    "\n",
    "print( T )"
   ]
  },
  {
   "cell_type": "code",
   "execution_count": 102,
   "metadata": {},
   "outputs": [
    {
     "name": "stdout",
     "output_type": "stream",
     "text": [
      "{1: [1], 2: [2], 3: [3], 4: [4], 5: [5], 6: [6]}\n"
     ]
    }
   ],
   "source": [
    "LS = {i : [i] for i in V}\n",
    "print( LS )"
   ]
  }
 ],
 "metadata": {
  "kernelspec": {
   "display_name": "Python 3",
   "language": "python",
   "name": "python3"
  },
  "language_info": {
   "codemirror_mode": {
    "name": "ipython",
    "version": 3
   },
   "file_extension": ".py",
   "mimetype": "text/x-python",
   "name": "python",
   "nbconvert_exporter": "python",
   "pygments_lexer": "ipython3",
   "version": "3.9.2"
  }
 },
 "nbformat": 4,
 "nbformat_minor": 4
}
