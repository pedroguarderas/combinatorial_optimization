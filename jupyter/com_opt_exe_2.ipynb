{
 "cells": [
  {
   "cell_type": "markdown",
   "metadata": {},
   "source": [
    "# Simplex algorithm"
   ]
  },
  {
   "cell_type": "markdown",
   "metadata": {},
   "source": [
    "Implementation of the simplex algorithm, based on Gaussian pivots"
   ]
  },
  {
   "cell_type": "code",
   "execution_count": 1,
   "metadata": {},
   "outputs": [],
   "source": [
    "# Numerical python library, importing all\n",
    "import numpy as np\n",
    "\n",
    "# Scientific computing python library, importing linalg sections\n",
    "from scipy import linalg"
   ]
  },
  {
   "cell_type": "code",
   "execution_count": 63,
   "metadata": {},
   "outputs": [],
   "source": [
    "def gauss_elimination( A, b ) :\n",
    "    m = A.shape[0]\n",
    "    n = A.shape[1]\n",
    "    \n",
    "    for j in range( 0, n - 1 ) :\n",
    "        for i in range( j + 1, m ) :\n",
    "            p = A[ i, j ] / A[ j, j ]\n",
    "            for k in range( j, n ) :\n",
    "                A[ i, k ] = A[ i, k ] - p * A[ j, k ]\n",
    "            \n",
    "            b[ i ] = b[ i ] - p * b[ j ]\n",
    "            \n",
    "    # Backward sustitution\n",
    "    x = np.copy( b )\n",
    "    for i in range( m - 1, -1, -1 ) :\n",
    "        for k in range( i + 1, n ) : \n",
    "            x[ i ] = x[ i ] - A[ i, k ] * x[ k ]\n",
    "        x[ i ] = x[ i ] / A[ i, i ]\n",
    "\n",
    "    return A, b, x"
   ]
  },
  {
   "cell_type": "code",
   "execution_count": 64,
   "metadata": {},
   "outputs": [],
   "source": [
    "m = 3\n",
    "n = 3\n",
    "A = 1000 * np.random.rand( m, n )\n",
    "b = 1000 * np.random.rand( m )\n",
    "B = np.copy( A )\n",
    "c = np.copy( b )"
   ]
  },
  {
   "cell_type": "code",
   "execution_count": 65,
   "metadata": {},
   "outputs": [
    {
     "name": "stdout",
     "output_type": "stream",
     "text": [
      "[0.47976893 0.7705922  0.68784916]\n"
     ]
    },
    {
     "data": {
      "text/plain": [
       "4.547473508864641e-13"
      ]
     },
     "execution_count": 65,
     "metadata": {},
     "output_type": "execute_result"
    }
   ],
   "source": [
    "A, b, x = gauss_elimination( A, b )\n",
    "print( x )\n",
    "s = B.dot( x ) - c\n",
    "linalg.norm( s )"
   ]
  },
  {
   "cell_type": "code",
   "execution_count": 66,
   "metadata": {},
   "outputs": [],
   "source": [
    "def simplex_method( c, A, b, d ) :\n",
    "    X = np.insert( A, 0, c, axis = 0  )\n",
    "    X = np.insert( X, X.shape[1], np.insert( b, 0, 0, axis = 0 ), axis = 1  )\n",
    "    \n",
    "    return ( X )"
   ]
  },
  {
   "cell_type": "code",
   "execution_count": 67,
   "metadata": {},
   "outputs": [
    {
     "name": "stdout",
     "output_type": "stream",
     "text": [
      "[ 828.40965024 -418.91011778 -946.79189275]\n",
      "[ 828.40965024 -418.91011778 -946.79189275]\n",
      "[[  122.70612868   877.39197637   135.82578382]\n",
      " [    0.          -672.2395001    144.0903042 ]\n",
      " [    0.             0.         -1376.45277696]]\n"
     ]
    }
   ],
   "source": [
    "c = b\n",
    "print( b )\n",
    "print( c )\n",
    "print( A )"
   ]
  },
  {
   "cell_type": "code",
   "execution_count": 68,
   "metadata": {},
   "outputs": [
    {
     "name": "stdout",
     "output_type": "stream",
     "text": [
      "[[  828.40965024  -418.91011778  -946.79189275     0.        ]\n",
      " [  122.70612868   877.39197637   135.82578382   828.40965024]\n",
      " [    0.          -672.2395001    144.0903042   -418.91011778]\n",
      " [    0.             0.         -1376.45277696  -946.79189275]]\n"
     ]
    }
   ],
   "source": [
    "X = np.insert( A, 0, c, axis = 0  )\n",
    "X = np.insert( X, X.shape[1], np.insert( b, 0, 0, axis = 0 ), axis = 1  )\n",
    "print( X )"
   ]
  },
  {
   "cell_type": "code",
   "execution_count": null,
   "metadata": {},
   "outputs": [],
   "source": []
  }
 ],
 "metadata": {
  "kernelspec": {
   "display_name": "Python 3",
   "language": "python",
   "name": "python3"
  },
  "language_info": {
   "codemirror_mode": {
    "name": "ipython",
    "version": 3
   },
   "file_extension": ".py",
   "mimetype": "text/x-python",
   "name": "python",
   "nbconvert_exporter": "python",
   "pygments_lexer": "ipython3",
   "version": "3.9.1"
  }
 },
 "nbformat": 4,
 "nbformat_minor": 4
}
