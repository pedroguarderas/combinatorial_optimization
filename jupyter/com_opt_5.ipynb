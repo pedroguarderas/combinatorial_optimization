{
 "cells": [
  {
   "cell_type": "markdown",
   "metadata": {},
   "source": [
    "# **Shortest Path Problem**"
   ]
  },
  {
   "cell_type": "code",
   "execution_count": 2,
   "metadata": {},
   "outputs": [],
   "source": [
    "import numpy as np"
   ]
  },
  {
   "cell_type": "code",
   "execution_count": 3,
   "metadata": {},
   "outputs": [],
   "source": [
    "V = range( 1, 7 )\n",
    "E = [(1,2), (1,3), (2,3), (2,4), (3,5), (2, 5), (3,4), (5,4), (4,6), (5, 6)]\n",
    "c = [ 4, 5, 3, 2, 3, 2, 2, 4, 5, 5 ]"
   ]
  },
  {
   "cell_type": "code",
   "execution_count": 4,
   "metadata": {},
   "outputs": [
    {
     "name": "stdout",
     "output_type": "stream",
     "text": [
      "{1: [(1, 2), (1, 3)], 2: [(2, 3), (2, 4), (2, 5)], 3: [(3, 5), (3, 4)], 4: [(4, 6)], 5: [(5, 4), (5, 6)], 6: []}\n",
      "{1: [], 2: [(1, 2)], 3: [(1, 3), (2, 3)], 4: [(2, 4), (3, 4), (5, 4)], 5: [(3, 5), (2, 5)], 6: [(4, 6), (5, 6)]}\n",
      "{(1, 2): 4, (1, 3): 5, (2, 3): 3, (2, 4): 2, (3, 5): 3, (2, 5): 2, (3, 4): 2, (5, 4): 4, (4, 6): 5, (5, 6): 5}\n"
     ]
    }
   ],
   "source": [
    "oued = {i : [(k,j) for (k,j) in E if k == i ] for i in V}\n",
    "ined = {i : [(k,j) for (k,j) in E if j == i ] for i in V}\n",
    "cost = {E[i] : c[i] for i in range( len( E ) ) }\n",
    "\n",
    "print( oued )\n",
    "print( ined )\n",
    "print( cost )"
   ]
  },
  {
   "cell_type": "code",
   "execution_count": 5,
   "metadata": {},
   "outputs": [
    {
     "name": "stdout",
     "output_type": "stream",
     "text": [
      "-9\n"
     ]
    }
   ],
   "source": [
    "def flux( i, ined, oued, x ) :\n",
    "  f = 0\n",
    "  for e in ined[i] :\n",
    "    f = f + x[ e ]\n",
    "\n",
    "  for e in oued[i] :\n",
    "    f = f - x[ e ]\n",
    "\n",
    "  return f\n",
    "\n",
    "f = flux( 1, ined, oued, cost )\n",
    "print( f )"
   ]
  },
  {
   "cell_type": "markdown",
   "metadata": {},
   "source": [
    "---\n",
    "## **Dijkstra's Algorithm**"
   ]
  },
  {
   "cell_type": "code",
   "execution_count": 5,
   "metadata": {},
   "outputs": [
    {
     "name": "stdout",
     "output_type": "stream",
     "text": [
      "6\n",
      "{1: 0, 2: inf, 3: inf, 4: inf, 5: inf, 6: inf}\n",
      "{1: 0}\n"
     ]
    }
   ],
   "source": [
    "n = len( V )\n",
    "print( n )\n",
    "\n",
    "# 4 vertex\n",
    "s = 1\n",
    "l = {i : np.inf for i in V }\n",
    "l[ s ] = 0\n",
    "print( l )\n",
    "\n",
    "p = { s: 0 }\n",
    "print( p )"
   ]
  },
  {
   "cell_type": "markdown",
   "metadata": {},
   "source": [
    "---\n",
    "## **Moore-Bellman-Ford Algorithm**"
   ]
  },
  {
   "cell_type": "code",
   "execution_count": 6,
   "metadata": {},
   "outputs": [],
   "source": [
    "def mbf_short_path( s, V, cost, oued ) :\n",
    "  n = len( V )\n",
    "  l = {i : np.inf for i in V }\n",
    "  l[ s ] = 0\n",
    "  p = { s: 0 }\n",
    "  \n",
    "  for i in range( 1, n ) :\n",
    "    for ( i, j ) in oued[i] :\n",
    "      cst = l[ i ] + cost[ ( i, j ) ]\n",
    "      if l[ j ] > cst :\n",
    "        l[ j ] = cst\n",
    "        p[ j ] = i\n",
    "\n",
    "  return [ l, p ]\n",
    "\n",
    "def get_path( j, l, p ) : \n",
    "  k = j\n",
    "  P = [j]\n",
    "  while k != 0 :\n",
    "    if p[k] != 0 :\n",
    "      P.insert( 0, p[k] )\n",
    "    k = p[k]\n",
    "\n",
    "  return [ P, l ]"
   ]
  },
  {
   "cell_type": "code",
   "execution_count": 7,
   "metadata": {},
   "outputs": [
    {
     "name": "stdout",
     "output_type": "stream",
     "text": [
      "{1: 0, 2: 4, 3: 5, 4: 6, 5: 6, 6: 11}\n",
      "{1: 0, 2: 1, 3: 1, 4: 2, 5: 2, 6: 4}\n",
      "[1, 2, 4, 6]\n",
      "11\n"
     ]
    }
   ],
   "source": [
    "l, p = mbf_short_path( 1, V, cost, oued )\n",
    "\n",
    "print( l )\n",
    "print( p )\n",
    "\n",
    "j = 6\n",
    "P, PC = get_path( j, l, p )\n",
    "print( P )\n",
    "print( l[j] )"
   ]
  },
  {
   "cell_type": "markdown",
   "metadata": {},
   "source": [
    "---\n",
    "# **Floyd-Warshall Algorithm**"
   ]
  },
  {
   "cell_type": "code",
   "execution_count": 8,
   "metadata": {},
   "outputs": [],
   "source": [
    "def fw_short_path( V, E, cost ) :\n",
    "  n = len( V )\n",
    "  l = np.full( ( n, n ), np.inf )\n",
    "  p = np.zeros( ( n, n ) )\n",
    "\n",
    "  for ( i, j ) in E :\n",
    "    l[ i-1, j-1 ] = cost[ ( i, j ) ]\n",
    "\n",
    "  for i in range( 0, n ) :\n",
    "    l[ i, i ] = 0\n",
    "    p[ i, : ] = i + 1\n",
    "\n",
    "  for j in range( 0, n ) :\n",
    "    for i in range( 0, n ) :\n",
    "      if i != j :\n",
    "        for k in range( 0, n ) :\n",
    "          if k != j :\n",
    "            c = l[ i, j ] + l[ j, k ]\n",
    "            if l[ i, k ] > c :\n",
    "              l[ i, k ] = c\n",
    "              p[ i, k ] = p[ j, k ]\n",
    "  \n",
    "  return [ l, p ]"
   ]
  },
  {
   "cell_type": "code",
   "execution_count": 9,
   "metadata": {},
   "outputs": [
    {
     "name": "stdout",
     "output_type": "stream",
     "text": [
      "[[ 0.  4.  5.  6.  6. 11.]\n",
      " [inf  0.  3.  2.  2.  7.]\n",
      " [inf inf  0.  2.  3.  7.]\n",
      " [inf inf inf  0. inf  5.]\n",
      " [inf inf inf  4.  0.  5.]\n",
      " [inf inf inf inf inf  0.]]\n",
      "[[1. 1. 1. 2. 2. 4.]\n",
      " [2. 2. 2. 2. 2. 4.]\n",
      " [3. 3. 3. 3. 3. 4.]\n",
      " [4. 4. 4. 4. 4. 4.]\n",
      " [5. 5. 5. 5. 5. 5.]\n",
      " [6. 6. 6. 6. 6. 6.]]\n"
     ]
    }
   ],
   "source": [
    "l, p = fw_short_path( V, E, cost )\n",
    "print( l )\n",
    "print( p )"
   ]
  }
 ],
 "metadata": {
  "kernelspec": {
   "display_name": "Python 3",
   "language": "python",
   "name": "python3"
  },
  "language_info": {
   "codemirror_mode": {
    "name": "ipython",
    "version": 3
   },
   "file_extension": ".py",
   "mimetype": "text/x-python",
   "name": "python",
   "nbconvert_exporter": "python",
   "pygments_lexer": "ipython3",
   "version": "3.9.2"
  }
 },
 "nbformat": 4,
 "nbformat_minor": 4
}
