{
 "cells": [
  {
   "cell_type": "markdown",
   "metadata": {},
   "source": [
    "# Defining a graph structure"
   ]
  },
  {
   "cell_type": "markdown",
   "metadata": {},
   "source": [
    "Graph class definition"
   ]
  },
  {
   "cell_type": "code",
   "execution_count": 191,
   "metadata": {},
   "outputs": [],
   "source": [
    "class graph :\n",
    "    # Class constructor\n",
    "    def __init__( self, V, E, W = {}, conv_edges = False ):\n",
    "        self.V = V\n",
    "        self.E = E\n",
    "        self.W = W\n",
    "        self.conv_edges = conv_edges\n",
    "        \n",
    "        if not self.conv_edges :\n",
    "            self.convert_edges()\n",
    "            self.conv_edges = True\n",
    "        \n",
    "    # Function to convert edge and simplify computations with a graph\n",
    "    def convert_edges( self ) :\n",
    "        if not self.conv_edges :\n",
    "            edges = [ [] for _ in range( len( self.V ) ) ]\n",
    "            \n",
    "            n = len( self.E )\n",
    "            while len( self.E ) > 0 :\n",
    "                e = self.E.pop()\n",
    "                w = 0\n",
    "                if len( self.W ) > 0 :\n",
    "                    w = self.W[ n - 1 ]\n",
    "                    \n",
    "                if e[1] not in edges[ e[0] - 1 ] :\n",
    "                    edges[ e[0] - 1 ].append( ( e[1], w, n ) )\n",
    "                if e[0] not in edges[ e[1] - 1 ] :\n",
    "                    edges[ e[1] - 1 ].append( ( e[0], w, n ) )\n",
    "                n = n - 1 \n",
    "\n",
    "            self.E = edges\n",
    "            self.conv_edges = True\n",
    "    \n",
    "    # Show incident\n",
    "    def incident( self, i ) :\n",
    "        if not self.conv_edges :\n",
    "            self.convert_edges()\n",
    "            \n",
    "        return self.E[ i - 1 ]\n",
    "    \n",
    "    def print( self ) :\n",
    "        print( 'V = {}'.format( G.V ) )\n",
    "        print( 'E = ')\n",
    "        k = 1\n",
    "        for e in G.E :\n",
    "            print( '   ', k, '->', e )\n",
    "            k = k + 1"
   ]
  },
  {
   "cell_type": "code",
   "execution_count": 192,
   "metadata": {},
   "outputs": [
    {
     "name": "stdout",
     "output_type": "stream",
     "text": [
      "V = [1, 2, 3, 4, 5, 6]\n",
      "E = \n",
      "    1 -> [(4, 2, 3), (3, 1, 2), (2, 1, 1)]\n",
      "    2 -> [(6, 3, 4), (1, 1, 1)]\n",
      "    3 -> [(5, 2, 5), (1, 1, 2)]\n",
      "    4 -> [(5, 2, 6), (1, 2, 3)]\n",
      "    5 -> [(4, 2, 6), (3, 2, 5)]\n",
      "    6 -> [(2, 3, 4)]\n"
     ]
    }
   ],
   "source": [
    "V = list( range( 1, 7 ) )\n",
    "E = [(1,2),(1,3),(1,4),(2,6),(3,5),(4,5)]\n",
    "W = [ 1, 1, 2, 3, 2, 2 ]\n",
    "# Employing class constructor\n",
    "G = graph( V, E, W, False )\n",
    "G.print()"
   ]
  },
  {
   "cell_type": "code",
   "execution_count": 193,
   "metadata": {},
   "outputs": [],
   "source": [
    "class digraph :\n",
    "    # Class constructor\n",
    "    def __init__( self, V, E, W = {}, conv_edges = False ):\n",
    "        self.V = V\n",
    "        self.E = E\n",
    "        self.W = W\n",
    "        self.conv_edges = conv_edges\n",
    "        \n",
    "        if not self.conv_edges :\n",
    "            self.convert_edges()\n",
    "            self.conv_edges = True\n",
    "        \n",
    "    # Function to convert edge and simplify computations with a graph\n",
    "    def convert_edges( self ) :\n",
    "        if not self.conv_edges :\n",
    "            edges = [ [] for _ in range( len( self.V ) ) ]\n",
    "            \n",
    "            n = len( self.E )\n",
    "            while len( self.E ) > 0 :\n",
    "                e = self.E.pop()\n",
    "                w = 0\n",
    "                if len( self.W ) > 0 :\n",
    "                    w = self.W[ n - 1 ]\n",
    "                    \n",
    "                if e[1] not in edges[ e[0] - 1 ] :\n",
    "                    edges[ e[0] - 1 ].append( ( e[1], w, n ) )\n",
    "\n",
    "                n = n - 1 \n",
    "\n",
    "            self.E = edges\n",
    "            self.conv_edges = True\n",
    "    \n",
    "    # Show incident\n",
    "    def incident( self, i ) :\n",
    "        if not self.conv_edges :\n",
    "            self.convert_edges()\n",
    "            \n",
    "        return self.E[ i - 1 ]\n",
    "    \n",
    "    def print( self ) :\n",
    "        print( 'V = {}'.format( G.V ) )\n",
    "        print( 'E = ')\n",
    "        k = 1\n",
    "        for e in G.E :\n",
    "            print( '   ', k, '->', e )\n",
    "            k = k + 1"
   ]
  },
  {
   "cell_type": "code",
   "execution_count": 194,
   "metadata": {},
   "outputs": [
    {
     "name": "stdout",
     "output_type": "stream",
     "text": [
      "V = [1, 2, 3, 4, 5, 6]\n",
      "E = \n",
      "    1 -> [(3, 4, 2), (2, -5, 1)]\n",
      "    2 -> [(4, -7, 4), (3, 3, 3)]\n",
      "    3 -> [(5, 2, 8), (4, 5, 5)]\n",
      "    4 -> [(6, 5, 9), (1, 1, 6)]\n",
      "    5 -> [(6, 0, 7)]\n",
      "    6 -> []\n"
     ]
    }
   ],
   "source": [
    "V = list( range( 1, 7 ) )\n",
    "E = [(1,2),(1,3),(2,3),(2,4),(3,4),(4,1),(5,6),(3,5),(4,6)]\n",
    "W = [-5,4,3,-7,5,1,0,2,5]\n",
    "\n",
    "G = digraph( V, E, W, False )\n",
    "G.convert_edges()\n",
    "G.print()"
   ]
  },
  {
   "cell_type": "code",
   "execution_count": 44,
   "metadata": {},
   "outputs": [],
   "source": [
    "m = {i : False for i in V}\n",
    "Q = [1]\n",
    "while Q != [] :\n",
    "    i = Q.pop( 0 )\n",
    "    m[i] = True\n",
    "    L = [ j for (k,j) in inc[i] if k == i ] + [ j for (j,k) in incidentes(i) if k == i ]\n",
    "    Q += [ i for i in L if ( not m[i] ) and ( i not in Q )]"
   ]
  },
  {
   "cell_type": "code",
   "execution_count": 72,
   "metadata": {},
   "outputs": [
    {
     "name": "stdout",
     "output_type": "stream",
     "text": [
      "1 [2, 3, 4]\n",
      "2 [6, 1]\n",
      "6 [2]\n",
      "3 [5, 1]\n",
      "5 [3, 4]\n",
      "4 [5, 1]\n"
     ]
    }
   ],
   "source": [
    "def deep_first_search( i, inc, m ) :\n",
    "    m[i] = True\n",
    "    N = [ j for (k,j) in inc[i] if k == i ] + [ j for (j,k) in inc[i] if k == i ]\n",
    "    print( i, N )\n",
    "    for j in N :\n",
    "        if not m[j] :\n",
    "            dfs( j, inc, m )\n",
    "\n",
    "m = { i : False for i in V }\n",
    "dfs( 1, inc, m )"
   ]
  },
  {
   "cell_type": "markdown",
   "metadata": {},
   "source": [
    "# Kruskal's algorithm"
   ]
  },
  {
   "cell_type": "code",
   "execution_count": 98,
   "metadata": {},
   "outputs": [
    {
     "name": "stdout",
     "output_type": "stream",
     "text": [
      "cc = {(1, 2): -5, (1, 3): 4, (2, 3): 3, (2, 4): -7, (3, 4): 5, (4, 1): 1, (5, 6): 0, (3, 5): 2, (4, 6): 5}\n"
     ]
    }
   ],
   "source": [
    "cc = {E[i] : c[i] for i in range( len( E ) ) }\n",
    "print( 'cc = {}'.format( cc ) )"
   ]
  },
  {
   "cell_type": "code",
   "execution_count": 92,
   "metadata": {},
   "outputs": [],
   "source": [
    "E.sort( key = lambda x : cc[ x ] )"
   ]
  },
  {
   "cell_type": "code",
   "execution_count": 100,
   "metadata": {},
   "outputs": [
    {
     "name": "stdout",
     "output_type": "stream",
     "text": [
      "[(1, 2), (1, 3), (2, 4), (5, 6), (3, 5)]\n"
     ]
    }
   ],
   "source": [
    "T = []\n",
    "S = { i : i for i in V }\n",
    "for ( i, j ) in E :\n",
    "    if ( S[i] == S[j] ) :\n",
    "        continue\n",
    "    T.append( ( i, j ) )\n",
    "    s_i = S[i]\n",
    "    for k in V :\n",
    "        if S[k] == s_i :\n",
    "            S[k] = S[j]\n",
    "\n",
    "print( T )"
   ]
  },
  {
   "cell_type": "code",
   "execution_count": 102,
   "metadata": {},
   "outputs": [
    {
     "name": "stdout",
     "output_type": "stream",
     "text": [
      "{1: [1], 2: [2], 3: [3], 4: [4], 5: [5], 6: [6]}\n"
     ]
    }
   ],
   "source": [
    "LS = {i : [i] for i in V}\n",
    "print( LS )"
   ]
  }
 ],
 "metadata": {
  "kernelspec": {
   "display_name": "Python 3",
   "language": "python",
   "name": "python3"
  },
  "language_info": {
   "codemirror_mode": {
    "name": "ipython",
    "version": 3
   },
   "file_extension": ".py",
   "mimetype": "text/x-python",
   "name": "python",
   "nbconvert_exporter": "python",
   "pygments_lexer": "ipython3",
   "version": "3.9.1"
  }
 },
 "nbformat": 4,
 "nbformat_minor": 4
}
