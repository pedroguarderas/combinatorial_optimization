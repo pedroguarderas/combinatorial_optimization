{
 "cells": [
  {
   "cell_type": "markdown",
   "metadata": {},
   "source": [
    "# **Interior point methods**"
   ]
  },
  {
   "cell_type": "code",
   "execution_count": 1,
   "metadata": {},
   "outputs": [],
   "source": [
    "import numpy as np\n",
    "from scipy import linalg as la"
   ]
  },
  {
   "cell_type": "markdown",
   "metadata": {},
   "source": [
    "---\n",
    "## **Affine scaling**"
   ]
  },
  {
   "cell_type": "code",
   "execution_count": 2,
   "metadata": {},
   "outputs": [],
   "source": [
    "def affine_scaling( x0, beta, c, A, b, N, eps ) :\n",
    "  \n",
    "  n = A.shape[1]\n",
    "  e = 2 * eps\n",
    "  k = 0\n",
    "  u = np.ones( n )\n",
    "  x = np.copy( x0 )\n",
    "  r = -np.ones( n )\n",
    "  bc = True\n",
    "  while k < N and np.min( r ) < 0 and np.abs( e ) >= eps :\n",
    "    X = np.diag( x )\n",
    "    U = A.dot( X.dot( X ) )\n",
    "    p = np.linalg.solve( U.dot( A.T ), U.dot( c ) )\n",
    "    r = c - A.T.dot( p )\n",
    "    h = X.dot( r )\n",
    "    g = X.dot( h )\n",
    "    e = u.dot( g )\n",
    "    x = x - ( beta / la.norm( h ) ) * g\n",
    "    if np.min( -g ) >= 0 :\n",
    "      bc = False\n",
    "      break\n",
    "    k = k + 1\n",
    "    \n",
    "  return [ x, bc, k, r, e ]"
   ]
  },
  {
   "cell_type": "markdown",
   "metadata": {},
   "source": [
    "## **Example**"
   ]
  },
  {
   "cell_type": "code",
   "execution_count": 3,
   "metadata": {},
   "outputs": [
    {
     "name": "stdout",
     "output_type": "stream",
     "text": [
      "[4.99999999e-01 1.49999999e+00 7.06441365e-10 2.38170899e-10]\n",
      "True\n",
      "15\n",
      "[4.4408921e-16 0.0000000e+00 1.5000000e+00 5.0000000e-01]\n",
      "3.367443988932588e-16\n"
     ]
    }
   ],
   "source": [
    "d = 4\n",
    "m = 2\n",
    "c = np.array( [ -1, -2, 0, 0 ] )\n",
    "A = np.array( [ [ 1, 1, 1, 0 ],[ -1, 1, 0, 1 ] ] )\n",
    "b = np.array( [ 2, 1 ] )\n",
    "\n",
    "N = 1000\n",
    "eps = 1e-30\n",
    "x0 = np.array( [ 0.1, 0.1, 1.8, 1.0 ] )\n",
    "beta = 0.995\n",
    "\n",
    "S = affine_scaling( x0, beta, c, A, b, N, eps )\n",
    "print( S[0] )\n",
    "print( S[1] )\n",
    "print( S[2] )\n",
    "print( S[3] )\n",
    "print( S[4] )"
   ]
  }
 ],
 "metadata": {
  "kernelspec": {
   "display_name": "Python 3",
   "language": "python",
   "name": "python3"
  },
  "language_info": {
   "codemirror_mode": {
    "name": "ipython",
    "version": 3
   },
   "file_extension": ".py",
   "mimetype": "text/x-python",
   "name": "python",
   "nbconvert_exporter": "python",
   "pygments_lexer": "ipython3",
   "version": "3.9.2"
  }
 },
 "nbformat": 4,
 "nbformat_minor": 4
}
